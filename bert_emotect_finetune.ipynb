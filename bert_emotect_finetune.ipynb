{
 "cells": [
  {
   "cell_type": "code",
   "execution_count": 1,
   "metadata": {
    "tags": []
   },
   "outputs": [],
   "source": [
    "import os\n",
    "\n",
    "import mindspore\n",
    "from mindspore.dataset import text, GeneratorDataset, transforms\n",
    "from mindspore import nn, context\n",
    "\n",
    "from mindnlp.transforms import PadTransform\n",
    "from mindnlp.transforms.tokenizers import BertTokenizer\n",
    "\n",
    "from mindnlp.engine import Trainer, Evaluator\n",
    "from mindnlp.engine.callbacks import CheckpointCallback, BestModelCallback\n",
    "from mindnlp.metrics import Accuracy"
   ]
  },
  {
   "cell_type": "code",
   "execution_count": 2,
   "metadata": {
    "tags": []
   },
   "outputs": [],
   "source": [
    "# prepare dataset\n",
    "class SentimentDataset:\n",
    "    \"\"\"Sentiment Dataset\"\"\"\n",
    "\n",
    "    def __init__(self, path):\n",
    "        self.path = path\n",
    "        self._labels, self._text_a = [], []\n",
    "        self._load()\n",
    "\n",
    "    def _load(self):\n",
    "        with open(self.path, \"r\", encoding=\"utf-8\") as f:\n",
    "            dataset = f.read()\n",
    "        lines = dataset.split(\"\\n\")\n",
    "        for line in lines[1:-1]:\n",
    "            \n",
    "            try:\n",
    "                label, text_a = line.split(\"\\t\")\n",
    "                #print(label)\n",
    "                #print(text_a)\n",
    "                self._labels.append(int(label))\n",
    "                self._text_a.append(text_a)\n",
    "            except:\n",
    "                pass\n",
    "\n",
    "    def __getitem__(self, index):\n",
    "        return self._labels[index], self._text_a[index]\n",
    "\n",
    "    def __len__(self):\n",
    "        return len(self._labels)"
   ]
  },
  {
   "cell_type": "code",
   "execution_count": null,
   "metadata": {
    "tags": []
   },
   "outputs": [],
   "source": [
    "# download dataset\n",
    "!wget https://baidu-nlp.bj.bcebos.com/emotion_detection-dataset-1.0.0.tar.gz -O emotion_detection.tar.gz\n",
    "!tar xvf emotion_detection.tar.gz"
   ]
  },
  {
   "cell_type": "code",
   "execution_count": 3,
   "metadata": {
    "tags": []
   },
   "outputs": [],
   "source": [
    "def process_dataset(source, tokenizer, pad_value, max_seq_len=64, batch_size=32, shuffle=True):\n",
    "    column_names = [\"label\", \"text_a\"]\n",
    "    rename_columns = [\"label\", \"input_ids\"]\n",
    "    \n",
    "    dataset = GeneratorDataset(source, column_names=column_names, shuffle=shuffle)\n",
    "    # transforms\n",
    "    pad_op = PadTransform(max_seq_len, pad_value=pad_value)\n",
    "    type_cast_op = transforms.TypeCast(mindspore.int32)\n",
    "    \n",
    "    # map dataset\n",
    "    dataset = dataset.map(operations=[tokenizer, pad_op], input_columns=\"text_a\")\n",
    "    dataset = dataset.map(operations=[type_cast_op], input_columns=\"label\")\n",
    "    # rename dataset\n",
    "    dataset = dataset.rename(input_columns=column_names, output_columns=rename_columns)\n",
    "    # batch dataset\n",
    "    dataset = dataset.batch(batch_size)\n",
    "\n",
    "    return dataset"
   ]
  },
  {
   "cell_type": "code",
   "execution_count": 14,
   "metadata": {
    "tags": []
   },
   "outputs": [
    {
     "name": "stdout",
     "output_type": "stream",
     "text": [
      "<class 'int'>\n"
     ]
    }
   ],
   "source": [
    "tokenizer = BertTokenizer.from_pretrained('bert-base-chinese')\n",
    "pad_value = tokenizer.token_to_id('[PAD]')\n",
    "print(type(pad_value))"
   ]
  },
  {
   "cell_type": "code",
   "execution_count": 5,
   "metadata": {
    "tags": []
   },
   "outputs": [],
   "source": [
    "dataset_train = process_dataset(SentimentDataset(\"data/new_new_train_data.tsv\"), tokenizer, pad_value)\n",
    "dataset_val = process_dataset(SentimentDataset(\"data/new_new_valid_data.tsv\"), tokenizer, pad_value)\n",
    "dataset_test = process_dataset(SentimentDataset(\"data/new_new_test_data.tsv\"), tokenizer, pad_value, shuffle=False)"
   ]
  },
  {
   "cell_type": "code",
   "execution_count": 7,
   "metadata": {
    "tags": []
   },
   "outputs": [
    {
     "data": {
      "application/vnd.jupyter.widget-view+json": {
       "model_id": "8df63b6faa514da5a36f8b83140c6bd1",
       "version_major": 2,
       "version_minor": 0
      },
      "text/plain": [
       "  0%|          | 0.00/454M [00:00<?, ?B/s]"
      ]
     },
     "metadata": {},
     "output_type": "display_data"
    },
    {
     "name": "stderr",
     "output_type": "stream",
     "text": [
      "[WARNING] ME(8307:281473847147072,MainProcess):2023-08-31-15:27:33.113.631 [/home/ma-user/anaconda3/envs/MindSpore/lib/python3.7/site-packages/mindnlp/abc/models/pretrained_model.py:454] The following parameters in checkpoint files are not loaded:\n",
      "['cls.predictions.bias', 'cls.predictions.transform.dense.weight', 'cls.predictions.transform.dense.bias', 'cls.predictions.transform.layer_norm.gamma', 'cls.predictions.transform.layer_norm.beta', 'cls.predictions.decoder.weight', 'cls.seq_relationship.weight', 'cls.seq_relationship.bias']\n"
     ]
    }
   ],
   "source": [
    "from mindnlp.models import BertForSequenceClassification\n",
    "from mindnlp._legacy.amp import auto_mixed_precision\n",
    "\n",
    "# set bert config and define parameters for training\n",
    "model = BertForSequenceClassification.from_pretrained('bert-base-chinese', num_labels=17)\n",
    "model = auto_mixed_precision(model, 'O1')\n",
    "\n",
    "loss = nn.CrossEntropyLoss()\n",
    "optimizer = nn.Adam(model.trainable_params(), learning_rate=2e-5)\n",
    "\n",
    "metric = Accuracy()\n",
    "\n",
    "# define callbacks to save checkpoints\n",
    "ckpoint_cb = CheckpointCallback(save_path='checkpoint', ckpt_name='bert_emotect', epochs=1, keep_checkpoint_max=2)\n",
    "best_model_cb = BestModelCallback(save_path='checkpoint', ckpt_name='bert_emotect_best', auto_load=True)\n",
    "\n",
    "trainer = Trainer(network=model, train_dataset=dataset_train,\n",
    "                  eval_dataset=dataset_val, metrics=metric,\n",
    "                  epochs=5, loss_fn=loss, optimizer=optimizer, callbacks=[ckpoint_cb, best_model_cb],\n",
    "                  jit=True)"
   ]
  },
  {
   "cell_type": "code",
   "execution_count": 8,
   "metadata": {
    "tags": []
   },
   "outputs": [
    {
     "name": "stdout",
     "output_type": "stream",
     "text": [
      "The train will start from the checkpoint saved in 'checkpoint'.\n"
     ]
    },
    {
     "data": {
      "application/vnd.jupyter.widget-view+json": {
       "model_id": "014ad3f8a1c343d6b8e132e47948e45b",
       "version_major": 2,
       "version_minor": 0
      },
      "text/plain": [
       "  0%|          | 0/313 [00:00<?, ?it/s]"
      ]
     },
     "metadata": {},
     "output_type": "display_data"
    },
    {
     "name": "stdout",
     "output_type": "stream",
     "text": [
      "Checkpoint: 'bert_emotect_epoch_0.ckpt' has been saved in epoch: 0.\n"
     ]
    },
    {
     "data": {
      "application/vnd.jupyter.widget-view+json": {
       "model_id": "52373099e24b478aace06419cc76d3f5",
       "version_major": 2,
       "version_minor": 0
      },
      "text/plain": [
       "  0%|          | 0/32 [00:00<?, ?it/s]"
      ]
     },
     "metadata": {},
     "output_type": "display_data"
    },
    {
     "name": "stdout",
     "output_type": "stream",
     "text": [
      "Evaluate Score: {'Accuracy': 0.8088088088088088}\n",
      "---------------Best Model: 'bert_emotect_best.ckpt' has been saved in epoch: 0.---------------\n"
     ]
    },
    {
     "data": {
      "application/vnd.jupyter.widget-view+json": {
       "model_id": "85822cfa031e45459081de930587035f",
       "version_major": 2,
       "version_minor": 0
      },
      "text/plain": [
       "  0%|          | 0/313 [00:00<?, ?it/s]"
      ]
     },
     "metadata": {},
     "output_type": "display_data"
    },
    {
     "name": "stdout",
     "output_type": "stream",
     "text": [
      "Checkpoint: 'bert_emotect_epoch_1.ckpt' has been saved in epoch: 1.\n"
     ]
    },
    {
     "data": {
      "application/vnd.jupyter.widget-view+json": {
       "model_id": "fc84a01fef774ff9b4d91e4e3047649f",
       "version_major": 2,
       "version_minor": 0
      },
      "text/plain": [
       "  0%|          | 0/32 [00:00<?, ?it/s]"
      ]
     },
     "metadata": {},
     "output_type": "display_data"
    },
    {
     "name": "stdout",
     "output_type": "stream",
     "text": [
      "Evaluate Score: {'Accuracy': 0.8408408408408409}\n",
      "---------------Best Model: 'bert_emotect_best.ckpt' has been saved in epoch: 1.---------------\n"
     ]
    },
    {
     "data": {
      "application/vnd.jupyter.widget-view+json": {
       "model_id": "69d28daf410a4bba94a51012f881629b",
       "version_major": 2,
       "version_minor": 0
      },
      "text/plain": [
       "  0%|          | 0/313 [00:00<?, ?it/s]"
      ]
     },
     "metadata": {},
     "output_type": "display_data"
    },
    {
     "name": "stdout",
     "output_type": "stream",
     "text": [
      "The maximum number of stored checkpoints has been reached.\n",
      "Checkpoint: 'bert_emotect_epoch_2.ckpt' has been saved in epoch: 2.\n"
     ]
    },
    {
     "data": {
      "application/vnd.jupyter.widget-view+json": {
       "model_id": "83ed31f9d10c44cf9be6dbaf705a15f7",
       "version_major": 2,
       "version_minor": 0
      },
      "text/plain": [
       "  0%|          | 0/32 [00:00<?, ?it/s]"
      ]
     },
     "metadata": {},
     "output_type": "display_data"
    },
    {
     "name": "stdout",
     "output_type": "stream",
     "text": [
      "Evaluate Score: {'Accuracy': 0.8418418418418419}\n",
      "---------------Best Model: 'bert_emotect_best.ckpt' has been saved in epoch: 2.---------------\n"
     ]
    },
    {
     "data": {
      "application/vnd.jupyter.widget-view+json": {
       "model_id": "fe118e047af64fc392da007c710e8dfe",
       "version_major": 2,
       "version_minor": 0
      },
      "text/plain": [
       "  0%|          | 0/313 [00:00<?, ?it/s]"
      ]
     },
     "metadata": {},
     "output_type": "display_data"
    },
    {
     "name": "stdout",
     "output_type": "stream",
     "text": [
      "The maximum number of stored checkpoints has been reached.\n",
      "Checkpoint: 'bert_emotect_epoch_3.ckpt' has been saved in epoch: 3.\n"
     ]
    },
    {
     "data": {
      "application/vnd.jupyter.widget-view+json": {
       "model_id": "c5b37641bc164f00911c745efeb1abd1",
       "version_major": 2,
       "version_minor": 0
      },
      "text/plain": [
       "  0%|          | 0/32 [00:00<?, ?it/s]"
      ]
     },
     "metadata": {},
     "output_type": "display_data"
    },
    {
     "name": "stdout",
     "output_type": "stream",
     "text": [
      "Evaluate Score: {'Accuracy': 0.8418418418418419}\n"
     ]
    },
    {
     "data": {
      "application/vnd.jupyter.widget-view+json": {
       "model_id": "723dfed851644af18081ac76bbaff057",
       "version_major": 2,
       "version_minor": 0
      },
      "text/plain": [
       "  0%|          | 0/313 [00:00<?, ?it/s]"
      ]
     },
     "metadata": {},
     "output_type": "display_data"
    },
    {
     "name": "stdout",
     "output_type": "stream",
     "text": [
      "The maximum number of stored checkpoints has been reached.\n",
      "Checkpoint: 'bert_emotect_epoch_4.ckpt' has been saved in epoch: 4.\n"
     ]
    },
    {
     "data": {
      "application/vnd.jupyter.widget-view+json": {
       "model_id": "ef2685dfe75e4f41a20e8d2ca5d548f8",
       "version_major": 2,
       "version_minor": 0
      },
      "text/plain": [
       "  0%|          | 0/32 [00:00<?, ?it/s]"
      ]
     },
     "metadata": {},
     "output_type": "display_data"
    },
    {
     "name": "stdout",
     "output_type": "stream",
     "text": [
      "Evaluate Score: {'Accuracy': 0.8358358358358359}\n",
      "Loading best model from 'checkpoint' with '['Accuracy']': [0.8418418418418419]...\n",
      "---------------The model is already load the best model from 'bert_emotect_best.ckpt'.---------------\n"
     ]
    }
   ],
   "source": [
    "# start training\n",
    "trainer.run('label')"
   ]
  },
  {
   "cell_type": "code",
   "execution_count": 6,
   "metadata": {},
   "outputs": [
    {
     "name": "stderr",
     "output_type": "stream",
     "text": [
      "[WARNING] ME(1720:281473318296128,MainProcess):2023-08-31-19:01:53.834.803 [/home/ma-user/anaconda3/envs/MindSpore/lib/python3.7/site-packages/mindnlp/abc/models/pretrained_model.py:454] The following parameters in checkpoint files are not loaded:\n",
      "['cls.predictions.bias', 'cls.predictions.transform.dense.weight', 'cls.predictions.transform.dense.bias', 'cls.predictions.transform.layer_norm.gamma', 'cls.predictions.transform.layer_norm.beta', 'cls.predictions.decoder.weight', 'cls.seq_relationship.weight', 'cls.seq_relationship.bias']\n"
     ]
    },
    {
     "name": "stdout",
     "output_type": "stream",
     "text": [
      "[]\n"
     ]
    }
   ],
   "source": [
    "from mindnlp.models import BertForSequenceClassification\n",
    "from mindnlp._legacy.amp import auto_mixed_precision\n",
    "\n",
    "# set bert config and define parameters for training\n",
    "model = BertForSequenceClassification.from_pretrained('bert-base-chinese', num_labels=17)\n",
    "model = auto_mixed_precision(model, 'O1')\n",
    "\n",
    "\n",
    "param_dict = mindspore.load_checkpoint(\"./checkpoint/bert_emotect_best.ckpt\")\n",
    "param_not_load = mindspore.load_param_into_net(model, param_dict)\n",
    "print(param_not_load)"
   ]
  },
  {
   "cell_type": "code",
   "execution_count": 9,
   "metadata": {
    "tags": []
   },
   "outputs": [
    {
     "data": {
      "application/vnd.jupyter.widget-view+json": {
       "model_id": "f4c32441608240d7bf8f28bef0d3ca57",
       "version_major": 2,
       "version_minor": 0
      },
      "text/plain": [
       "  0%|          | 0/32 [00:00<?, ?it/s]"
      ]
     },
     "metadata": {},
     "output_type": "display_data"
    },
    {
     "name": "stdout",
     "output_type": "stream",
     "text": [
      "Evaluate Score: {'Accuracy': 0.8388388388388388}\n"
     ]
    }
   ],
   "source": [
    "evaluator = Evaluator(network=model, eval_dataset=dataset_test, metrics=metric)\n",
    "evaluator.run(tgt_columns=\"label\")"
   ]
  },
  {
   "cell_type": "code",
   "execution_count": 7,
   "metadata": {
    "tags": []
   },
   "outputs": [],
   "source": [
    "dataset_infer = SentimentDataset(\"data/new_new_infer100_data.tsv\")"
   ]
  },
  {
   "cell_type": "code",
   "execution_count": 15,
   "metadata": {
    "tags": []
   },
   "outputs": [],
   "source": [
    "def predict(text, label=None):\n",
    "    label_map = {   \n",
    "                    0: \"news_story\",\n",
    "                    1: \"news_culture\",\n",
    "                    2: \"news_entertainment\",\n",
    "                    3: \"news_entertainment\",\n",
    "                    4: \"news_sports\",\n",
    "                    6: \"news_house\",\n",
    "                    7: \"news_car\",\n",
    "                    8: \"news_edu\",\n",
    "                    9: \"news_tech\",\n",
    "                    10: \"news_military\",\n",
    "                    12: \"news_travel\",\n",
    "                    13: \"news_world\",\n",
    "                    14: \"stock\",\n",
    "                    15: \"news_agriculture\",\n",
    "                    16: \"news_game\"\n",
    "                }\n",
    "\n",
    "    max_seq_len=64\n",
    "    if len(text) < max_seq_len:\n",
    "        text = text.ljust(max_seq_len, '0')\n",
    "    else:\n",
    "        text = text[:max_seq_len]\n",
    "    \n",
    "    text_tokenized = Tensor([tokenizer.encode(text).ids])\n",
    "    logits = model(text_tokenized)\n",
    "    predict_label = logits[0].asnumpy().argmax()\n",
    "    info = f\"inputs: '{text}', predict: '{label_map[predict_label]}'\"\n",
    "    if label is not None:\n",
    "        info += f\" , label: '{label_map[label]}'\"\n",
    "    print(info)"
   ]
  },
  {
   "cell_type": "code",
   "execution_count": 16,
   "metadata": {
    "tags": []
   },
   "outputs": [
    {
     "name": "stdout",
     "output_type": "stream",
     "text": [
      "inputs: 'Aibee获亿级行业投资，拓展精准零售新业态000000000000000000000000000000000000000000', predict: 'news_sports' , label: 'news_tech'\n",
      "inputs: '名图换代车型lafesta 是否能超越当年的伊兰特000000000000000000000000000000000000000', predict: 'news_car' , label: 'news_car'\n",
      "inputs: '尚雯婕出席活动，网友：每次你的打扮都让人眼前一亮，个性范十足0000000000000000000000000000000000', predict: 'news_entertainment' , label: 'news_entertainment'\n",
      "inputs: '习近平主席讲话在解放军武警部队反响热烈000000000000000000000000000000000000000000000', predict: 'news_military' , label: 'news_military'\n",
      "inputs: '一颗原子弹能够摧毁一支航母舰队吗？专家说出实话，你可能都不信0000000000000000000000000000000000', predict: 'news_military' , label: 'news_military'\n",
      "inputs: '小龙虾火了，汽车品牌都不淡定了0000000000000000000000000000000000000000000000000', predict: 'news_car' , label: 'news_car'\n",
      "inputs: '紧急应对618大促，中小型卖家如何快速弯道超车，精耕细作打爆款！00000000000000000000000000000000', predict: 'news_tech' , label: 'news_tech'\n",
      "inputs: '椰视频｜椰岛自由行——三亚潜水梦之旅0000000000000000000000000000000000000000000000', predict: 'news_travel' , label: 'news_travel'\n",
      "inputs: '男生读护校有前途吗？000000000000000000000000000000000000000000000000000000', predict: 'news_edu' , label: 'news_edu'\n",
      "inputs: '乐嘉强拥谢娜入怀，强吻遭拒，谢娜的胳膊获得网友点赞！00000000000000000000000000000000000000', predict: 'news_entertainment' , label: 'news_entertainment'\n",
      "inputs: '《崩坏3》关于一些私信的解答00000000000000000000000000000000000000000000000000', predict: 'news_game' , label: 'news_game'\n",
      "inputs: '北大天才去二本学校当老师就是堕落？你对成功是不是有什么误解？0000000000000000000000000000000000', predict: 'news_edu' , label: 'news_edu'\n",
      "inputs: '曾是珠海“第一村”的会同村，嬗变后有哪些特色？00000000000000000000000000000000000000000', predict: 'news_agriculture' , label: 'news_travel'\n",
      "inputs: '精武门综合格斗职业联赛今晚会师珠海 赛前选手见面频频放狠话00000000000000000000000000000000000', predict: 'news_entertainment' , label: 'news_entertainment'\n",
      "inputs: '胜利的天堂能不能向曼城倾斜000000000000000000000000000000000000000000000000000', predict: 'news_entertainment' , label: 'news_entertainment'\n",
      "inputs: '你最喜欢的一句经典电影对白是什么？00000000000000000000000000000000000000000000000', predict: 'news_entertainment' , label: 'news_entertainment'\n",
      "inputs: '为什么袁隆平没有获得诺贝尔奖？0000000000000000000000000000000000000000000000000', predict: 'news_culture' , label: 'news_world'\n",
      "inputs: '房价真跌？假摔！00000000000000000000000000000000000000000000000000000000', predict: 'news_house' , label: 'news_house'\n",
      "inputs: '如果美俄不插手，以色列和伊朗谁的胜算高？00000000000000000000000000000000000000000000', predict: 'news_military' , label: 'news_military'\n",
      "inputs: '妹妹刚结婚妹夫就失踪了，三年后，却看到妹夫一家三口，我们愣了0000000000000000000000000000000000', predict: 'news_story' , label: 'news_story'\n",
      "inputs: '5月15日锤子科技鸟巢发布会/坚果R1，小米、极米、一加齐阻击000000000000000000000000000000000', predict: 'news_tech' , label: 'news_tech'\n",
      "inputs: '载货20吨，航程3400km，刚刚，这款运输机现身南边0000000000000000000000000000000000000', predict: 'news_military' , label: 'news_military'\n",
      "inputs: '加拿大留学生移民后的生活状况如何？00000000000000000000000000000000000000000000000', predict: 'news_edu' , label: 'news_edu'\n",
      "inputs: '双冠王梅西+赛季不败+欧洲金靴+西甲金靴+西甲助攻王，在金球奖的竞争中有一席之地吗？0000000000000000000000', predict: 'news_entertainment' , label: 'news_entertainment'\n",
      "inputs: '吉林省对原民办教师有什么好政策？000000000000000000000000000000000000000000000000', predict: 'news_edu' , label: 'news_sports'\n",
      "inputs: '菲律宾新人民军属于什么性质，亲美吗？0000000000000000000000000000000000000000000000', predict: 'news_world' , label: 'news_world'\n",
      "inputs: '为什么滴滴打车越来越贵，越来越难打到车，高峰期比打的还难而且贵上1.5倍？000000000000000000000000000', predict: 'news_tech' , label: 'news_tech'\n",
      "inputs: '“县管校聘”的改革效果令人期待0000000000000000000000000000000000000000000000000', predict: 'news_edu' , label: 'news_edu'\n",
      "inputs: '杨幂和王鸥撞衫，谁更美？0000000000000000000000000000000000000000000000000000', predict: 'news_entertainment' , label: 'news_entertainment'\n",
      "inputs: '58同城推广公司58同城推广业务58同城推广渠道0000000000000000000000000000000000000000', predict: 'news_tech' , label: 'news_tech'\n",
      "inputs: '经常听到球员十几二十万周薪，他们是不是每周发工资？000000000000000000000000000000000000000', predict: 'news_entertainment' , label: 'news_entertainment'\n",
      "inputs: '从没钱到没资格到抢不到房，购房之路为什么越来越不易？00000000000000000000000000000000000000', predict: 'news_house' , label: 'news_house'\n",
      "inputs: '男子身高2.3米妻子1.5米，婚后生活尴尬的不得了000000000000000000000000000000000000000', predict: 'news_story' , label: 'news_world'\n",
      "inputs: '小米手机MIUI9系统如何把SIM卡的联系人导入手机？0000000000000000000000000000000000000', predict: 'news_tech' , label: 'news_tech'\n",
      "inputs: '养老定居，选择珠三角城市好还是长三角城市好？000000000000000000000000000000000000000000', predict: 'news_house' , label: 'news_house'\n",
      "inputs: '游览五台山，穿越百花园00000000000000000000000000000000000000000000000000000', predict: 'news_travel' , label: 'news_travel'\n",
      "inputs: 'Google I/O 2018有什么值得期待的？0000000000000000000000000000000000000000', predict: 'news_tech' , label: 'news_tech'\n",
      "inputs: '想找一个写诗的漂亮女人当老婆有多难？36年都遇不到！00000000000000000000000000000000000000', predict: 'news_story' , label: 'news_entertainment'\n",
      "inputs: '卡宴再推插电混动，你怎么看？00000000000000000000000000000000000000000000000000', predict: 'news_car' , label: 'news_car'\n",
      "inputs: '1960年代聂荣臻因何事让钱学森得知后“沉下了脸”000000000000000000000000000000000000000', predict: 'news_military' , label: 'news_military'\n",
      "inputs: '2001年美国发生9·11恐怖袭击的时候你在哪儿？听到这个消息是什么心情？000000000000000000000000000', predict: 'news_world' , label: 'news_world'\n",
      "inputs: '绝地求生：欧洲战队FaZe教科书式吃鸡给出新玩法，玩家看完想卸载00000000000000000000000000000000', predict: 'news_game' , label: 'news_game'\n",
      "inputs: '电视平台独家合作！海信助力FIFA足球世界开辟大屏游戏战场00000000000000000000000000000000000', predict: 'news_tech' , label: 'news_game'\n",
      "inputs: '董子健家的小公主终于公布照片了，网友：基因果然是强大00000000000000000000000000000000000000', predict: 'news_entertainment' , label: 'news_entertainment'\n",
      "inputs: '多开分身，伪装机型登录王者荣耀，账号会不会封号？0000000000000000000000000000000000000000', predict: 'news_game' , label: 'news_game'\n",
      "inputs: '范冰冰和欧美明星合影前换上恨天高，成功成为戛纳最美“特工”00000000000000000000000000000000000', predict: 'news_entertainment' , label: 'news_entertainment'\n",
      "inputs: '天津哪有环境好又能户外烧烤的地方？00000000000000000000000000000000000000000000000', predict: 'news_travel' , label: 'news_travel'\n",
      "inputs: '日本一个艺伎替美国领事服务了3个月，从此被日本人唾弃30多年0000000000000000000000000000000000', predict: 'news_world' , label: 'news_world'\n",
      "inputs: '安庆一名大学老师用歌唱的方式教授古典诗词，学生们对他的课很有兴趣，对此你怎么看？000000000000000000000000', predict: 'news_culture' , label: 'news_culture'\n",
      "inputs: '轮流回家住宿开始，军人再也不用全部留营000000000000000000000000000000000000000000000', predict: 'news_military' , label: 'news_military'\n",
      "inputs: '美媒晒科比为凯尔特人试训照，绿军当年选了科比会怎样？00000000000000000000000000000000000000', predict: 'news_entertainment' , label: 'news_entertainment'\n",
      "inputs: '世乒赛已然结束，从全面复盘的高度，都能总结出哪些得失？0000000000000000000000000000000000000', predict: 'news_entertainment' , label: 'news_entertainment'\n",
      "inputs: '梁文音睽违3年发新专辑《副驾驶座的风景》5月11日上线0000000000000000000000000000000000000', predict: 'news_entertainment' , label: 'news_entertainment'\n",
      "inputs: '如何看待张召忠将军说到日本都做不出像国产C919这样的大飞机的观点？000000000000000000000000000000', predict: 'news_military' , label: 'news_military'\n",
      "inputs: '美国到底是衰退还是变得更强大了？000000000000000000000000000000000000000000000000', predict: 'news_world' , label: 'news_world'\n",
      "inputs: '「帮你选车」小仓帮选车，只选最适合！0000000000000000000000000000000000000000000000', predict: 'news_car' , label: 'news_car'\n",
      "inputs: '谷歌微软英伟达等34家公司要齐聚白宫，与特朗普共商AI大计00000000000000000000000000000000000', predict: 'news_tech' , label: 'news_tech'\n",
      "inputs: '买个包子竟付款14万 店家：快来认领吗？00000000000000000000000000000000000000000000', predict: 'news_agriculture' , label: 'news_tech'\n",
      "inputs: 'LOL最令人怀念的场景，一张简单地图，发生过多少难忘的故事！0000000000000000000000000000000000', predict: 'news_travel' , label: 'news_game'\n",
      "inputs: '特种兵的伪装迷彩服，能迷惑眼睛到什么地步？0000000000000000000000000000000000000000000', predict: 'news_military' , label: 'news_military'\n",
      "inputs: '区块链节点服务器00000000000000000000000000000000000000000000000000000000', predict: 'news_tech' , label: 'news_tech'\n",
      "inputs: '美国陷入窘境？市场再次引发热议：如何看待特斯拉破产问题？000000000000000000000000000000000000', predict: 'news_sports' , label: 'news_tech'\n",
      "inputs: '美军航母开始转舵？3艘或将聚集南海，中国也会面临同样“烦恼”0000000000000000000000000000000000', predict: 'news_military' , label: 'news_military'\n",
      "inputs: 'DNF：听说你卢克没人带？《卢克划水日记》了解一下！00000000000000000000000000000000000000', predict: 'news_game' , label: 'news_game'\n",
      "inputs: '接泰国群众举报！166名中国人在泰操控中国股市被警方审讯000000000000000000000000000000000000', predict: 'news_sports' , label: 'news_world'\n",
      "inputs: '一款老游戏，开始人物是从天而降的是什么游戏？000000000000000000000000000000000000000000', predict: 'news_game' , label: 'news_game'\n",
      "inputs: '有一种爱情叫做汪峰章子怡！000000000000000000000000000000000000000000000000000', predict: 'news_entertainment' , label: 'news_entertainment'\n",
      "inputs: '九江美食：湖口炒米粑000000000000000000000000000000000000000000000000000000', predict: 'news_travel' , label: 'news_culture'\n",
      "inputs: '研究人员称大太平洋垃圾带正变成“塑料怪物”0000000000000000000000000000000000000000000', predict: 'news_world' , label: 'news_world'\n",
      "inputs: '21投1中！6200万先生迷失季后赛，莫雷曾因放走他被火箭球迷讨伐0000000000000000000000000000000', predict: 'news_entertainment' , label: 'news_entertainment'\n",
      "inputs: '影评：《三生三世十里桃花》000000000000000000000000000000000000000000000000000', predict: 'news_entertainment' , label: 'news_entertainment'\n",
      "inputs: '40年的老核桃，包浆真美！可缝隙里都是灰怎么办？0000000000000000000000000000000000000000', predict: 'news_agriculture' , label: 'news_game'\n",
      "inputs: '未来三年，哪些行业值得投资？00000000000000000000000000000000000000000000000000', predict: 'news_sports' , label: 'news_tech'\n",
      "inputs: '从2999跌至1599元，曾助OPPO登上国产冠军宝座，如今沦为千元机！0000000000000000000000000000', predict: 'news_tech' , label: 'news_tech'\n",
      "inputs: '镇江财经早报｜镇江一季度商品房销售面积和销售额同比下滑幅度大0000000000000000000000000000000000', predict: 'news_house' , label: 'news_house'\n",
      "inputs: '看这4点之后，终于知道为何川藏线穷游女搭车屡次被拒！00000000000000000000000000000000000000', predict: 'news_travel' , label: 'news_travel'\n",
      "inputs: '买一只活鸭一般需要50元左右，为什么有些烤鸭却只卖19元呢？0000000000000000000000000000000000', predict: 'news_agriculture' , label: 'news_sports'\n",
      "inputs: '我国的“专属”运钞车为什么是江铃全顺？运钞车冷知识你知道多少0000000000000000000000000000000000', predict: 'news_car' , label: 'news_car'\n",
      "inputs: '有人说《亮剑》里赵刚500米外打中日军太假，这个说法是真是假？000000000000000000000000000000000', predict: 'news_military' , label: 'news_military'\n",
      "inputs: '中国学者呼吁要重视医生猝死：两年猝死40个，呼吁减负和为自己健康负责000000000000000000000000000000', predict: 'news_world' , label: 'news_world'\n",
      "inputs: '迷你世界地心门怎么弄？00000000000000000000000000000000000000000000000000000', predict: 'news_travel' , label: 'news_culture'\n",
      "inputs: '出一上联：云上太阳云下雨，求下联？00000000000000000000000000000000000000000000000', predict: 'news_culture' , label: 'news_culture'\n",
      "inputs: '高考后去美国留学，一年的费用开销，你的预算够吗？0000000000000000000000000000000000000000', predict: 'news_edu' , label: 'news_edu'\n",
      "inputs: '牧童遥指杏花村是指汾阳杏花镇吗？000000000000000000000000000000000000000000000000', predict: 'news_culture' , label: 'news_culture'\n",
      "inputs: '2018-05-10股票冲高回落，商品高空0000000000000000000000000000000000000000000', predict: 'news_sports' , label: 'news_sports'\n",
      "inputs: '为什么陈晓旭在《红楼梦》之后再无出名的影视作品？0000000000000000000000000000000000000000', predict: 'news_entertainment' , label: 'news_culture'\n",
      "inputs: '林心如现身活动捞金，抹胸礼服难掩发福身材，妆太浓吓坏台上婴儿0000000000000000000000000000000000', predict: 'news_entertainment' , label: 'news_entertainment'\n",
      "inputs: '这辆车号称50年不坏，100年质保！网友说：送我都不要！000000000000000000000000000000000000', predict: 'news_car' , label: 'news_car'\n",
      "inputs: '刚毕业是薪资重要，还是学习重要？000000000000000000000000000000000000000000000000', predict: 'news_edu' , label: 'news_edu'\n",
      "inputs: '公检法司备考热点：机器人逆天战特级？是颠覆还是辅助？00000000000000000000000000000000000000', predict: 'news_tech' , label: 'news_edu'\n",
      "inputs: '农民新发明，老式自行车改装的锄地工具，省时，省力，还省工000000000000000000000000000000000000', predict: 'news_agriculture' , label: 'news_agriculture'\n",
      "inputs: '听了青年典型的故事 这些青年官兵学生干劲更足000000000000000000000000000000000000000000', predict: 'news_military' , label: 'news_military'\n",
      "inputs: '车子便宜还省油，混动紧凑级轿车看过来！000000000000000000000000000000000000000000000', predict: 'news_car' , label: 'news_car'\n",
      "inputs: '为什么美国经常有龙卷风发生？00000000000000000000000000000000000000000000000000', predict: 'news_world' , label: 'news_world'\n",
      "inputs: '刺激战场：你觉得压枪重要吗，小编觉得还好吧0000000000000000000000000000000000000000000', predict: 'news_game' , label: 'news_game'\n",
      "inputs: '假如股市恢复T+0的交易制度会怎样？0000000000000000000000000000000000000000000000', predict: 'news_sports' , label: 'news_sports'\n",
      "inputs: '2018年什么行业会火？0000000000000000000000000000000000000000000000000000', predict: 'news_tech' , label: 'news_tech'\n",
      "inputs: '钢贸大佬神预测：“红五月”建筑钢材市场价格仍将震荡上升0000000000000000000000000000000000000', predict: 'news_sports' , label: 'news_sports'\n",
      "inputs: '2018年全球高端定制旅游都有些什么旅游项目？00000000000000000000000000000000000000000', predict: 'news_travel' , label: 'news_travel'\n"
     ]
    }
   ],
   "source": [
    "from mindspore import Tensor\n",
    "\n",
    "for label, text in dataset_infer:\n",
    "    predict(text, label)"
   ]
  },
  {
   "cell_type": "code",
   "execution_count": null,
   "metadata": {
    "tags": []
   },
   "outputs": [],
   "source": [
    "predict(\"家人们咱就是说一整个无语住了 绝绝子叠buff\")"
   ]
  }
 ],
 "metadata": {
  "kernelspec": {
   "display_name": "Python 3",
   "language": "python",
   "name": "python3"
  },
  "language_info": {
   "codemirror_mode": {
    "name": "ipython",
    "version": 3
   },
   "file_extension": ".py",
   "mimetype": "text/x-python",
   "name": "python",
   "nbconvert_exporter": "python",
   "pygments_lexer": "ipython3",
   "version": "3.8.10 (default, May 26 2023, 14:05:08) \n[GCC 9.4.0]"
  },
  "vscode": {
   "interpreter": {
    "hash": "e7370f93d1d0cde622a1f8e1c04877d8463912d04d973331ad4851f04de6915a"
   }
  }
 },
 "nbformat": 4,
 "nbformat_minor": 4
}
